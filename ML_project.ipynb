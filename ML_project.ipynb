{
  "nbformat": 4,
  "nbformat_minor": 0,
  "metadata": {
    "colab": {
      "name": "ML_project.ipynb",
      "provenance": [],
      "toc_visible": true,
      "authorship_tag": "ABX9TyPzYfUxF1fv71KN4FRBzW4Q",
      "include_colab_link": true
    },
    "kernelspec": {
      "name": "python3",
      "display_name": "Python 3"
    }
  },
  "cells": [
    {
      "cell_type": "markdown",
      "metadata": {
        "id": "view-in-github",
        "colab_type": "text"
      },
      "source": [
        "<a href=\"https://colab.research.google.com/github/aswinigh/Cloth-simulation/blob/master/ML_project.ipynb\" target=\"_parent\"><img src=\"https://colab.research.google.com/assets/colab-badge.svg\" alt=\"Open In Colab\"/></a>"
      ]
    },
    {
      "cell_type": "code",
      "metadata": {
        "id": "s2DqfZ131y5X",
        "colab_type": "code",
        "outputId": "2437568c-bc91-4e03-e3c3-432811a9fa8c",
        "colab": {
          "base_uri": "https://localhost:8080/",
          "height": 204
        }
      },
      "source": [
        "import pandas as pd\n",
        "df_x = pd.read_csv('/content/simulation_data_x.csv')\n",
        "df_x.head()"
      ],
      "execution_count": 25,
      "outputs": [
        {
          "output_type": "execute_result",
          "data": {
            "text/html": [
              "<div>\n",
              "<style scoped>\n",
              "    .dataframe tbody tr th:only-of-type {\n",
              "        vertical-align: middle;\n",
              "    }\n",
              "\n",
              "    .dataframe tbody tr th {\n",
              "        vertical-align: top;\n",
              "    }\n",
              "\n",
              "    .dataframe thead th {\n",
              "        text-align: right;\n",
              "    }\n",
              "</style>\n",
              "<table border=\"1\" class=\"dataframe\">\n",
              "  <thead>\n",
              "    <tr style=\"text-align: right;\">\n",
              "      <th></th>\n",
              "      <th>Vertex</th>\n",
              "      <th>x</th>\n",
              "      <th>y</th>\n",
              "      <th>z</th>\n",
              "    </tr>\n",
              "  </thead>\n",
              "  <tbody>\n",
              "    <tr>\n",
              "      <th>0</th>\n",
              "      <td>0</td>\n",
              "      <td>-1.302110</td>\n",
              "      <td>-1.292617</td>\n",
              "      <td>-18.292028</td>\n",
              "    </tr>\n",
              "    <tr>\n",
              "      <th>1</th>\n",
              "      <td>1</td>\n",
              "      <td>1.347602</td>\n",
              "      <td>-1.166909</td>\n",
              "      <td>-18.300309</td>\n",
              "    </tr>\n",
              "    <tr>\n",
              "      <th>2</th>\n",
              "      <td>2</td>\n",
              "      <td>-1.177302</td>\n",
              "      <td>1.339230</td>\n",
              "      <td>-18.299922</td>\n",
              "    </tr>\n",
              "    <tr>\n",
              "      <th>3</th>\n",
              "      <td>3</td>\n",
              "      <td>1.194597</td>\n",
              "      <td>1.187820</td>\n",
              "      <td>-18.194202</td>\n",
              "    </tr>\n",
              "    <tr>\n",
              "      <th>4</th>\n",
              "      <td>4</td>\n",
              "      <td>-1.190407</td>\n",
              "      <td>1.201361</td>\n",
              "      <td>-18.301665</td>\n",
              "    </tr>\n",
              "  </tbody>\n",
              "</table>\n",
              "</div>"
            ],
            "text/plain": [
              "   Vertex         x         y          z \n",
              "0        0 -1.302110 -1.292617 -18.292028\n",
              "1        1  1.347602 -1.166909 -18.300309\n",
              "2        2 -1.177302  1.339230 -18.299922\n",
              "3        3  1.194597  1.187820 -18.194202\n",
              "4        4 -1.190407  1.201361 -18.301665"
            ]
          },
          "metadata": {
            "tags": []
          },
          "execution_count": 25
        }
      ]
    },
    {
      "cell_type": "code",
      "metadata": {
        "id": "j5iPishQvB9D",
        "colab_type": "code",
        "colab": {
          "base_uri": "https://localhost:8080/",
          "height": 34
        },
        "outputId": "2253982e-fa20-42e6-86bc-da1cfec76301"
      },
      "source": [
        "len(df_x)"
      ],
      "execution_count": 26,
      "outputs": [
        {
          "output_type": "execute_result",
          "data": {
            "text/plain": [
              "40000"
            ]
          },
          "metadata": {
            "tags": []
          },
          "execution_count": 26
        }
      ]
    },
    {
      "cell_type": "code",
      "metadata": {
        "id": "XCN6cgVcUra-",
        "colab_type": "code",
        "colab": {}
      },
      "source": [
        "import matplotlib.pyplot as plt"
      ],
      "execution_count": 0,
      "outputs": []
    },
    {
      "cell_type": "code",
      "metadata": {
        "id": "vua3tQ77Ubc3",
        "colab_type": "code",
        "colab": {}
      },
      "source": [
        "scene = []\n",
        "for j in range(5):\n",
        "  frame = []\n",
        "  for i in range(20):\n",
        "    frame.append(df_x[j*8000+i*400:j*8000+i*400+400])\n",
        "  scene.append(frame)"
      ],
      "execution_count": 0,
      "outputs": []
    },
    {
      "cell_type": "code",
      "metadata": {
        "id": "V5SPoe_3tLaS",
        "colab_type": "code",
        "colab": {
          "base_uri": "https://localhost:8080/",
          "height": 221
        },
        "outputId": "9cf1e3c5-7920-42d5-b9bd-7c08db6d497a"
      },
      "source": [
        "scene[1][5][' x ']"
      ],
      "execution_count": 32,
      "outputs": [
        {
          "output_type": "execute_result",
          "data": {
            "text/plain": [
              "10000   -2.522755\n",
              "10001    2.640486\n",
              "10002   -2.453123\n",
              "10003    2.701899\n",
              "10004   -2.638905\n",
              "           ...   \n",
              "10395    3.117320\n",
              "10396    2.961124\n",
              "10397    2.820948\n",
              "10398    2.689412\n",
              "10399    2.607882\n",
              "Name:  x , Length: 400, dtype: float64"
            ]
          },
          "metadata": {
            "tags": []
          },
          "execution_count": 32
        }
      ]
    },
    {
      "cell_type": "markdown",
      "metadata": {
        "id": "rY9UGadjVx5X",
        "colab_type": "text"
      },
      "source": [
        "# Data Exploration\n",
        "We plot the means and standard deviations changing with respect to frame count(time)"
      ]
    },
    {
      "cell_type": "code",
      "metadata": {
        "id": "2qTodmF0Um2E",
        "colab_type": "code",
        "colab": {}
      },
      "source": [
        "means_x = [scene[0][i][' x '].astype(float).mean() for i in range(20)]\n",
        "means_y = [scene[0][i][' y '].astype(float).mean() for i in range(20)]\n",
        "means_z = [scene[0][i][' z '].astype(float).mean() for i in range(20)]"
      ],
      "execution_count": 0,
      "outputs": []
    },
    {
      "cell_type": "code",
      "metadata": {
        "id": "_0FJdzgoUvHW",
        "colab_type": "code",
        "outputId": "ff412b75-0d7e-4220-f24e-f5662ea7bee6",
        "colab": {
          "base_uri": "https://localhost:8080/",
          "height": 265
        }
      },
      "source": [
        "plt.plot([i for i in range(20)], means_x)\n",
        "plt.plot([i for i in range(20)], means_y)\n",
        "plt.plot([i for i in range(20)], means_z)\n",
        "plt.show()"
      ],
      "execution_count": 34,
      "outputs": [
        {
          "output_type": "display_data",
          "data": {
            "image/png": "[encoded data removed]",
            "text/plain": [
              "<Figure size 432x288 with 1 Axes>"
            ]
          },
          "metadata": {
            "tags": [],
            "needs_background": "light"
          }
        }
      ]
    },
    {
      "cell_type": "code",
      "metadata": {
        "id": "DKmtwFa0UzlA",
        "colab_type": "code",
        "colab": {}
      },
      "source": [
        "std_x = [scene[0][i][' x '].std() for i in range(20)]\n",
        "std_y = [scene[0][i][' y '].std() for i in range(20)]\n",
        "std_z = [scene[0][i][' z '].std() for i in range(20)]"
      ],
      "execution_count": 0,
      "outputs": []
    },
    {
      "cell_type": "code",
      "metadata": {
        "id": "VEU4FyhRU-ph",
        "colab_type": "code",
        "outputId": "ce2f0acd-f25a-417f-fa9a-b9423b3b2f6f",
        "colab": {
          "base_uri": "https://localhost:8080/",
          "height": 265
        }
      },
      "source": [
        "plt.plot([i for i in range(20)], std_x, color='blue')\n",
        "plt.plot([i for i in range(20)], std_y, color='green')\n",
        "plt.plot([i for i in range(20)], std_z, color='orange')\n",
        "plt.show()"
      ],
      "execution_count": 37,
      "outputs": [
        {
          "output_type": "display_data",
          "data": {
            "image/png": "[encoded data removed]",
            "text/plain": [
              "<Figure size 432x288 with 1 Axes>"
            ]
          },
          "metadata": {
            "tags": [],
            "needs_background": "light"
          }
        }
      ]
    },
    {
      "cell_type": "code",
      "metadata": {
        "id": "IvHfF8vqVBbj",
        "colab_type": "code",
        "colab": {}
      },
      "source": [
        "from mpl_toolkits.mplot3d import axes3d\n",
        "\n",
        "def plot_frame(i,j):\n",
        "  fig = plt.figure()\n",
        "  #ax = fig.add_subplot(1, 1, 1, axisbg=\"1.0\")\n",
        "  ax = fig.gca(projection='3d')\n",
        "  ax.set_zlim3d(-8,2)\n",
        "  ax.scatter(scene[i][j][' x '],scene[i][j][' y '],scene[i][j][' z '])"
      ],
      "execution_count": 0,
      "outputs": []
    },
    {
      "cell_type": "code",
      "metadata": {
        "id": "hrSnWUOgVYVb",
        "colab_type": "code",
        "outputId": "f12f42f6-7e62-4fe4-aad6-367a7e16bffc",
        "colab": {
          "base_uri": "https://localhost:8080/",
          "height": 248
        }
      },
      "source": [
        "plot_frame(2,19)\n"
      ],
      "execution_count": 44,
      "outputs": [
        {
          "output_type": "display_data",
          "data": {
            "image/png": "[encoded data removed]",
            "text/plain": [
              "<Figure size 432x288 with 1 Axes>"
            ]
          },
          "metadata": {
            "tags": [],
            "needs_background": "light"
          }
        }
      ]
    },
    {
      "cell_type": "markdown",
      "metadata": {
        "id": "1nVY4oEkWRq9",
        "colab_type": "text"
      },
      "source": [
        "# Data preperation\n",
        "\n",
        "1.   We keep all the vertices for each frame in a single vector x(t) where t is the frame.\n",
        "2.   We make a matrix X combining all the x(t) into a single matrix.\n",
        "\n"
      ]
    },
    {
      "cell_type": "code",
      "metadata": {
        "id": "d7I0i7WSXAZc",
        "colab_type": "code",
        "colab": {}
      },
      "source": [
        "frame = scene\n",
        "for i in range(5):\n",
        "  for t in range(20):\n",
        "    frame[i][t] = frame[i][t].drop('Vertex ',axis=1)\n",
        "    frame[i][t] = frame[i][t].values.flatten()"
      ],
      "execution_count": 0,
      "outputs": []
    },
    {
      "cell_type": "code",
      "metadata": {
        "id": "0rUVziVJXXsC",
        "colab_type": "code",
        "outputId": "4ed78f7e-13d9-4778-a8d8-2d0754507c5b",
        "colab": {
          "base_uri": "https://localhost:8080/",
          "height": 34
        }
      },
      "source": [
        "frame[0][0].shape"
      ],
      "execution_count": 47,
      "outputs": [
        {
          "output_type": "execute_result",
          "data": {
            "text/plain": [
              "(1200,)"
            ]
          },
          "metadata": {
            "tags": []
          },
          "execution_count": 47
        }
      ]
    },
    {
      "cell_type": "code",
      "metadata": {
        "id": "9_GV9egU3iVp",
        "colab_type": "code",
        "colab": {}
      },
      "source": [
        "allframes = []\n",
        "for i in range(5):\n",
        "  for t in range(20):\n",
        "    allframes.append(frame[i][t])\n"
      ],
      "execution_count": 0,
      "outputs": []
    },
    {
      "cell_type": "code",
      "metadata": {
        "id": "yWuzGp6t4KJe",
        "colab_type": "code",
        "colab": {
          "base_uri": "https://localhost:8080/",
          "height": 34
        },
        "outputId": "b7d892eb-3704-4587-ab29-fbcf59bf98ff"
      },
      "source": [
        "len(allframes)"
      ],
      "execution_count": 49,
      "outputs": [
        {
          "output_type": "execute_result",
          "data": {
            "text/plain": [
              "100"
            ]
          },
          "metadata": {
            "tags": []
          },
          "execution_count": 49
        }
      ]
    },
    {
      "cell_type": "code",
      "metadata": {
        "id": "Kt9dmMrCXaBP",
        "colab_type": "code",
        "colab": {}
      },
      "source": [
        "from sklearn.decomposition import PCA\n",
        "pca = PCA(n_components=32)\n",
        "principalComponents = pca.fit_transform(allframes)"
      ],
      "execution_count": 0,
      "outputs": []
    },
    {
      "cell_type": "code",
      "metadata": {
        "id": "vuF1rx85X1II",
        "colab_type": "code",
        "outputId": "83e7761b-a0fb-473e-e4e4-7cb021505be6",
        "colab": {
          "base_uri": "https://localhost:8080/",
          "height": 34
        }
      },
      "source": [
        "pca.components_.shape"
      ],
      "execution_count": 54,
      "outputs": [
        {
          "output_type": "execute_result",
          "data": {
            "text/plain": [
              "(32, 1200)"
            ]
          },
          "metadata": {
            "tags": []
          },
          "execution_count": 54
        }
      ]
    },
    {
      "cell_type": "code",
      "metadata": {
        "id": "J__Z0kh9X5vz",
        "colab_type": "code",
        "outputId": "18b2fdc6-65a6-4c3f-f9ab-9fa3e78d4d7d",
        "colab": {
          "base_uri": "https://localhost:8080/",
          "height": 153
        }
      },
      "source": [
        "principalComponents[99]"
      ],
      "execution_count": 71,
      "outputs": [
        {
          "output_type": "execute_result",
          "data": {
            "text/plain": [
              "array([-8.35014346e+01, -5.16801143e+01,  1.27186552e+01, -4.99433997e+00,\n",
              "       -3.06912409e+00, -7.25054797e+00,  5.00318138e-01, -4.79815858e+00,\n",
              "        8.96694379e-01,  3.93586476e-01, -1.38651135e-01, -8.10052417e-02,\n",
              "        7.81852954e-01,  1.12702627e+00, -5.00245598e-01, -7.69494957e-02,\n",
              "       -6.03916389e-02, -2.21494313e-02,  1.03902873e-01, -9.83489025e-02,\n",
              "       -1.10193043e-01, -2.87472008e-01, -1.76606867e-01, -5.37781159e-02,\n",
              "        1.42331135e-02, -5.43664871e-03,  7.95627392e-02,  9.80108106e-02,\n",
              "        1.71611124e-01, -2.25959670e-02,  1.28484322e-02,  6.73819040e-03])"
            ]
          },
          "metadata": {
            "tags": []
          },
          "execution_count": 71
        }
      ]
    },
    {
      "cell_type": "code",
      "metadata": {
        "id": "Zm28_IQcX9bt",
        "colab_type": "code",
        "outputId": "4df5a087-ed2d-4cbc-aebb-f64828f48417",
        "colab": {
          "base_uri": "https://localhost:8080/",
          "height": 51
        }
      },
      "source": [
        "pca.inverse_transform(principalComponents[0])"
      ],
      "execution_count": 56,
      "outputs": [
        {
          "output_type": "execute_result",
          "data": {
            "text/plain": [
              "array([ -1.3009953 ,  -1.29157864, -18.29339145, ...,   1.08654235,\n",
              "         1.08127444, -17.15831471])"
            ]
          },
          "metadata": {
            "tags": []
          },
          "execution_count": 56
        }
      ]
    },
    {
      "cell_type": "code",
      "metadata": {
        "id": "LYV7-GYZYyY6",
        "colab_type": "code",
        "outputId": "ef53076c-28c0-4cee-f1f4-79eba86fd1ea",
        "colab": {
          "base_uri": "https://localhost:8080/",
          "height": 51
        }
      },
      "source": [
        "allframes[0]"
      ],
      "execution_count": 58,
      "outputs": [
        {
          "output_type": "execute_result",
          "data": {
            "text/plain": [
              "array([ -1.30210994,  -1.29261665, -18.29202846, ...,   1.08645316,\n",
              "         1.08047149, -17.15841394])"
            ]
          },
          "metadata": {
            "tags": []
          },
          "execution_count": 58
        }
      ]
    },
    {
      "cell_type": "code",
      "metadata": {
        "id": "wraZdn8WY3A1",
        "colab_type": "code",
        "outputId": "57c18d72-3896-4173-a7b2-99c5b8618a4e",
        "colab": {
          "base_uri": "https://localhost:8080/",
          "height": 265
        }
      },
      "source": [
        "for j in range(15):\n",
        "  plt.plot([i for i in range(100)], [principalComponents[i][j] for i in range(100)])"
      ],
      "execution_count": 74,
      "outputs": [
        {
          "output_type": "display_data",
          "data": {
            "image/png": "[encoded data removed]",
            "text/plain": [
              "<Figure size 432x288 with 1 Axes>"
            ]
          },
          "metadata": {
            "tags": [],
            "needs_background": "light"
          }
        }
      ]
    },
    {
      "cell_type": "code",
      "metadata": {
        "id": "FPMfyK7Ubp_M",
        "colab_type": "code",
        "colab": {}
      },
      "source": [
        "from sklearn.linear_model import LinearRegression\n",
        "import numpy as np"
      ],
      "execution_count": 0,
      "outputs": []
    },
    {
      "cell_type": "code",
      "metadata": {
        "id": "JfwQa6vGtBnG",
        "colab_type": "code",
        "colab": {}
      },
      "source": [
        "zt = principalComponents"
      ],
      "execution_count": 0,
      "outputs": []
    },
    {
      "cell_type": "code",
      "metadata": {
        "id": "_kZLY7hztt6P",
        "colab_type": "code",
        "colab": {}
      },
      "source": [
        "x1 = []\n",
        "for j in range(5):\n",
        "  for i in range(18):\n",
        "    x1.append([principalComponents[j*20 + i+1][0],principalComponents[j*20 + i+1][0]-principalComponents[j*20+i][0]])"
      ],
      "execution_count": 0,
      "outputs": []
    },
    {
      "cell_type": "code",
      "metadata": {
        "id": "fpnDAmTovUJc",
        "colab_type": "code",
        "colab": {}
      },
      "source": [
        "y1 = []\n",
        "for j in range(5):\n",
        "  for i in range(2,20):\n",
        "    y1.append(principalComponents[j*20+i][0])"
      ],
      "execution_count": 0,
      "outputs": []
    },
    {
      "cell_type": "code",
      "metadata": {
        "id": "Lc2NNrqZA7Ad",
        "colab_type": "code",
        "colab": {}
      },
      "source": [
        "x1 = np.array(x1)\n",
        "y1 = np.array(y1)"
      ],
      "execution_count": 0,
      "outputs": []
    },
    {
      "cell_type": "code",
      "metadata": {
        "id": "T4Smj5g68XMc",
        "colab_type": "code",
        "colab": {
          "base_uri": "https://localhost:8080/",
          "height": 265
        },
        "outputId": "41a1df44-13d9-4efc-b658-c30cca3ac0eb"
      },
      "source": [
        "for j in range(15):\n",
        "  plt.plot([i for i in range(19)], [principalComponents[i+1][0] - principalComponents[i][0] for i in range(19)])"
      ],
      "execution_count": 92,
      "outputs": [
        {
          "output_type": "display_data",
          "data": {
            "image/png": "[encoded data removed]",
            "text/plain": [
              "<Figure size 432x288 with 1 Axes>"
            ]
          },
          "metadata": {
            "tags": [],
            "needs_background": "light"
          }
        }
      ]
    },
    {
      "cell_type": "code",
      "metadata": {
        "id": "NZppf9Vtvs-x",
        "colab_type": "code",
        "colab": {}
      },
      "source": [
        "regressor = LinearRegression().fit(x1,y1)"
      ],
      "execution_count": 0,
      "outputs": []
    },
    {
      "cell_type": "code",
      "metadata": {
        "id": "mmRMF7UTvvBu",
        "colab_type": "code",
        "outputId": "6e608d84-ca64-4818-8647-72fba5b9af00",
        "colab": {
          "base_uri": "https://localhost:8080/",
          "height": 34
        }
      },
      "source": [
        "regressor.coef_"
      ],
      "execution_count": 102,
      "outputs": [
        {
          "output_type": "execute_result",
          "data": {
            "text/plain": [
              "array([0.99937335, 1.03513452])"
            ]
          },
          "metadata": {
            "tags": []
          },
          "execution_count": 102
        }
      ]
    },
    {
      "cell_type": "code",
      "metadata": {
        "id": "o_HoiCRSIgc_",
        "colab_type": "code",
        "colab": {
          "base_uri": "https://localhost:8080/",
          "height": 34
        },
        "outputId": "29a931d8-6e44-483d-8ca2-c69c2b77d233"
      },
      "source": [
        "x1[0]"
      ],
      "execution_count": 123,
      "outputs": [
        {
          "output_type": "execute_result",
          "data": {
            "text/plain": [
              "array([194.40196387,  13.95713274])"
            ]
          },
          "metadata": {
            "tags": []
          },
          "execution_count": 123
        }
      ]
    },
    {
      "cell_type": "code",
      "metadata": {
        "id": "TiRZDf2ww_qg",
        "colab_type": "code",
        "colab": {}
      },
      "source": [
        "z_pred = [x1[0][0]]\n",
        "z = regressor.predict([x1[0]])\n",
        "z_pred.append(z[0])\n",
        "\n",
        "for i in range(1,18):\n",
        "  z_pred.append(regressor.predict([[z_pred[i],z_pred[i]-z_pred[i-1]]])[0])"
      ],
      "execution_count": 0,
      "outputs": []
    },
    {
      "cell_type": "code",
      "metadata": {
        "id": "EjVIboOAuTZH",
        "colab_type": "code",
        "colab": {
          "base_uri": "https://localhost:8080/",
          "height": 340
        },
        "outputId": "7caba321-f455-4b96-f402-40bea784fe0c"
      },
      "source": [
        "z_pred"
      ],
      "execution_count": 180,
      "outputs": [
        {
          "output_type": "execute_result",
          "data": {
            "text/plain": [
              "[194.4019638653541,\n",
              " 208.6791888909153,\n",
              " 223.27880567724523,\n",
              " 238.2029924681406,\n",
              " 253.45380064746226,\n",
              " 269.03314899647455,\n",
              " 284.94281783251415,\n",
              " 301.1844430284923,\n",
              " 317.75950991279086,\n",
              " 334.669347049173,\n",
              " 351.9151198963902,\n",
              " 369.4978243472324,\n",
              " 387.4182801468338,\n",
              " 405.67712419011724,\n",
              " 424.27480369832983,\n",
              " 443.21156927469883,\n",
              " 462.4874678393114,\n",
              " 482.10233544340286,\n",
              " 502.05578996331894]"
            ]
          },
          "metadata": {
            "tags": []
          },
          "execution_count": 180
        }
      ]
    },
    {
      "cell_type": "code",
      "metadata": {
        "id": "X5v7vjkGt2hK",
        "colab_type": "code",
        "colab": {
          "base_uri": "https://localhost:8080/",
          "height": 34
        },
        "outputId": "235392be-8528-4e38-8726-63fecce0bb17"
      },
      "source": [
        "x"
      ],
      "execution_count": 176,
      "outputs": [
        {
          "output_type": "execute_result",
          "data": {
            "text/plain": [
              "[223.27880567724523, 14.599616786329932]"
            ]
          },
          "metadata": {
            "tags": []
          },
          "execution_count": 176
        }
      ]
    },
    {
      "cell_type": "code",
      "metadata": {
        "id": "Ff2tcd4nxKwQ",
        "colab_type": "code",
        "colab": {}
      },
      "source": [
        "z_new = []\n",
        "for i in range(18):\n",
        "  z_new.append([z_pred[i],0,0,0,0,0,0,0,0,0,0,0,0,0,0,0,0,0,0,0,0,0,0,0,0,0,0,0,0,0,0,0])"
      ],
      "execution_count": 0,
      "outputs": []
    },
    {
      "cell_type": "code",
      "metadata": {
        "id": "HRhK7wxYxnrc",
        "colab_type": "code",
        "outputId": "ce551b92-50f0-4b9e-de9c-86f18cd8706a",
        "colab": {
          "base_uri": "https://localhost:8080/",
          "height": 561
        }
      },
      "source": [
        "z_new[1]"
      ],
      "execution_count": 182,
      "outputs": [
        {
          "output_type": "execute_result",
          "data": {
            "text/plain": [
              "[208.6791888909153,\n",
              " 0,\n",
              " 0,\n",
              " 0,\n",
              " 0,\n",
              " 0,\n",
              " 0,\n",
              " 0,\n",
              " 0,\n",
              " 0,\n",
              " 0,\n",
              " 0,\n",
              " 0,\n",
              " 0,\n",
              " 0,\n",
              " 0,\n",
              " 0,\n",
              " 0,\n",
              " 0,\n",
              " 0,\n",
              " 0,\n",
              " 0,\n",
              " 0,\n",
              " 0,\n",
              " 0,\n",
              " 0,\n",
              " 0,\n",
              " 0,\n",
              " 0,\n",
              " 0,\n",
              " 0,\n",
              " 0]"
            ]
          },
          "metadata": {
            "tags": []
          },
          "execution_count": 182
        }
      ]
    },
    {
      "cell_type": "code",
      "metadata": {
        "id": "2Ns12F1fx-Ih",
        "colab_type": "code",
        "colab": {}
      },
      "source": [
        "z_new = pca.inverse_transform(z_new)"
      ],
      "execution_count": 0,
      "outputs": []
    },
    {
      "cell_type": "code",
      "metadata": {
        "id": "5qlu8IE4FxwD",
        "colab_type": "code",
        "colab": {
          "base_uri": "https://localhost:8080/",
          "height": 34
        },
        "outputId": "5fb6dda3-0c4a-44fe-e992-648146cd1f0f"
      },
      "source": [
        "z_new[2][3]"
      ],
      "execution_count": 184,
      "outputs": [
        {
          "output_type": "execute_result",
          "data": {
            "text/plain": [
              "1.2152047809783026"
            ]
          },
          "metadata": {
            "tags": []
          },
          "execution_count": 184
        }
      ]
    },
    {
      "cell_type": "code",
      "metadata": {
        "id": "cE-IoUdKy_mD",
        "colab_type": "code",
        "outputId": "124c3bee-8fa5-4200-9aee-850bc9938526",
        "colab": {
          "base_uri": "https://localhost:8080/",
          "height": 265
        }
      },
      "source": [
        "i=17\n",
        "z_x = [z_new[i][j] for j in range(0,1200,3)]\n",
        "z_y = [z_new[i][j] for j in range(1,1200,3)]\n",
        "z_z =  [z_new[i][j] for j in range(2,1200,3)]\n",
        "fig = plt.figure()\n",
        "#ax = fig.add_subplot(1, 1, 1, axisbg=\"1.0\")\n",
        "ax = fig.gca(projection='3d')\n",
        "ax.scatter(z_x,z_y,z_z)"
      ],
      "execution_count": 193,
      "outputs": [
        {
          "output_type": "execute_result",
          "data": {
            "text/plain": [
              "<mpl_toolkits.mplot3d.art3d.Path3DCollection at 0x7f83b5ba1eb8>"
            ]
          },
          "metadata": {
            "tags": []
          },
          "execution_count": 193
        },
        {
          "output_type": "display_data",
          "data": {
            "image/png": "[encoded data removed]",
            "text/plain": [
              "<Figure size 432x288 with 1 Axes>"
            ]
          },
          "metadata": {
            "tags": [],
            "needs_background": "light"
          }
        }
      ]
    },
    {
      "cell_type": "code",
      "metadata": {
        "id": "SszYtzww0L_r",
        "colab_type": "code",
        "colab": {}
      },
      "source": [
        ""
      ],
      "execution_count": 0,
      "outputs": []
    }
  ]
}